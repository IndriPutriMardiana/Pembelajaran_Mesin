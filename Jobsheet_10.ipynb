{
  "nbformat": 4,
  "nbformat_minor": 0,
  "metadata": {
    "colab": {
      "provenance": [],
      "authorship_tag": "ABX9TyMhUIKMdMi2wHgIyeaafONG",
      "include_colab_link": true
    },
    "kernelspec": {
      "name": "python3",
      "display_name": "Python 3"
    },
    "language_info": {
      "name": "python"
    }
  },
  "cells": [
    {
      "cell_type": "markdown",
      "metadata": {
        "id": "view-in-github",
        "colab_type": "text"
      },
      "source": [
        "<a href=\"https://colab.research.google.com/github/IndriPutriMardiana/Pembelajaran_Mesin/blob/main/Jobsheet_10.ipynb\" target=\"_parent\"><img src=\"https://colab.research.google.com/assets/colab-badge.svg\" alt=\"Open In Colab\"/></a>"
      ]
    },
    {
      "cell_type": "markdown",
      "source": [
        "# **Job Sheet 10 : Recurrent Neural Network (RNN)**"
      ],
      "metadata": {
        "id": "n-5GmJg9kWwr"
      }
    },
    {
      "cell_type": "code",
      "execution_count": null,
      "metadata": {
        "id": "TSbuIfwkkE7O"
      },
      "outputs": [],
      "source": [
        "#Setup\n",
        "#Impor matplotlib dan buat fungsi pembantu untuk memplot grafik\n",
        "import numpy as np\n",
        "import tensorflow_datasets as tfds\n",
        "import tensorflow as tf\n",
        "tfds.disable_progress_bar()"
      ]
    },
    {
      "cell_type": "code",
      "source": [
        "import matplotlib.pyplot as plt\n",
        "\n",
        "def plot_graphs(history, metric):\n",
        "  plt.plot(history.history[metric])\n",
        "  plt.plot(history.history['val_'+metric], '')\n",
        "  plt.xlabel(\"Epochs\")\n",
        "  plt.ylabel(metric)\n",
        "  plt.legend([metric, 'val_'+metric])\n"
      ],
      "metadata": {
        "id": "59CQdjkhklWL"
      },
      "execution_count": null,
      "outputs": []
    },
    {
      "cell_type": "markdown",
      "source": [
        "Setup input pipeline"
      ],
      "metadata": {
        "id": "jVGOtTmElUIU"
      }
    },
    {
      "cell_type": "code",
      "source": [
        "dataset, info = tfds.load('imdb_reviews', with_info=True,\n",
        "                          as_supervised=True)\n",
        "train_dataset, test_dataset = dataset['train'], dataset['test']\n",
        "\n",
        "train_dataset.element_spec"
      ],
      "metadata": {
        "colab": {
          "base_uri": "https://localhost:8080/"
        },
        "id": "a3UCLzLylNrd",
        "outputId": "15b3c6a9-2125-4902-d93d-269e35cf4716"
      },
      "execution_count": null,
      "outputs": [
        {
          "output_type": "stream",
          "name": "stdout",
          "text": [
            "Downloading and preparing dataset 80.23 MiB (download: 80.23 MiB, generated: Unknown size, total: 80.23 MiB) to /root/tensorflow_datasets/imdb_reviews/plain_text/1.0.0...\n",
            "Dataset imdb_reviews downloaded and prepared to /root/tensorflow_datasets/imdb_reviews/plain_text/1.0.0. Subsequent calls will reuse this data.\n"
          ]
        },
        {
          "output_type": "execute_result",
          "data": {
            "text/plain": [
              "(TensorSpec(shape=(), dtype=tf.string, name=None),\n",
              " TensorSpec(shape=(), dtype=tf.int64, name=None))"
            ]
          },
          "metadata": {},
          "execution_count": 4
        }
      ]
    },
    {
      "cell_type": "markdown",
      "source": [
        "Dataset IMDB reviews biasanya digunakan untuk tugas analisis sentimen di mana tujuannya adalah untuk menentukan apakah suatu ulasan film atau teks memiliki sentimen positif atau negatif. Pada dasarnya, kode ini membantu untuk memuat dataset IMDB reviews, membaginya menjadi data latih dan data uji, dan memberikan informasi tentang struktur data dalam dataset latih"
      ],
      "metadata": {
        "id": "QBv_cuqno3VH"
      }
    },
    {
      "cell_type": "code",
      "source": [
        "for example, label in train_dataset.take(1):\n",
        "  print('text: ', example.numpy())\n",
        "  print('label: ', label.numpy())"
      ],
      "metadata": {
        "colab": {
          "base_uri": "https://localhost:8080/"
        },
        "id": "gY632f9mmG17",
        "outputId": "d8bce194-5796-412a-ece9-a47aaefba828"
      },
      "execution_count": null,
      "outputs": [
        {
          "output_type": "stream",
          "name": "stdout",
          "text": [
            "text:  b\"This was an absolutely terrible movie. Don't be lured in by Christopher Walken or Michael Ironside. Both are great actors, but this must simply be their worst role in history. Even their great acting could not redeem this movie's ridiculous storyline. This movie is an early nineties US propaganda piece. The most pathetic scenes were those when the Columbian rebels were making their cases for revolutions. Maria Conchita Alonso appeared phony, and her pseudo-love affair with Walken was nothing but a pathetic emotional plug in a movie that was devoid of any real meaning. I am disappointed that there are movies like this, ruining actor's like Christopher Walken's good name. I could barely sit through it.\"\n",
            "label:  0\n"
          ]
        }
      ]
    },
    {
      "cell_type": "code",
      "source": [
        "BUFFER_SIZE = 10000\n",
        "BATCH_SIZE = 64\n",
        "\n",
        "train_dataset = train_dataset.shuffle(BUFFER_SIZE).batch(BATCH_SIZE).prefetch(tf.data.AUTOTUNE)\n",
        "test_dataset = test_dataset.batch(BATCH_SIZE).prefetch(tf.data.AUTOTUNE)\n",
        "\n",
        "for example, label in train_dataset.take(1):\n",
        "  print('texts: ', example.numpy()[:3])\n",
        "  print()\n",
        "  print('labels: ', label.numpy()[:3])\n"
      ],
      "metadata": {
        "colab": {
          "base_uri": "https://localhost:8080/"
        },
        "id": "KdIG4QFPmMKD",
        "outputId": "b19570fa-d6d8-49e2-be6a-99ab33f05e26"
      },
      "execution_count": null,
      "outputs": [
        {
          "output_type": "stream",
          "name": "stdout",
          "text": [
            "texts:  [b'You may say to yourself, \"Don Johnson as Elvis? Can that work? Is it possible? Seems like an terrible choice to me, but perhaps I should have an open mind. Maybe I\\'ll be surprised. Maybe he can pull it off.\"<br /><br />NOT!<br /><br />Don Johnson is not a bad actor. But he is an awful Elvis. He\\'s too short, too weak-voiced, too sharply featured ... well you\\'ve already imagined how bad he would be. Add to that a hokey black wig and heavy-handed eye-liner and mascara and it\\'s a big fat embarrassing mess.<br /><br />The best I can say is that since Johnson\\'s acting is decent and since his impersonation is so far off, after a while you don\\'t even think of him as Elvis anymore. You see him as some other crazed pop star instead. Then, on that level, the movie becomes watchable.<br /><br />Stephanie Zimbalist is also not ideally cast as the tall, beauty queen, Linda Thompson. But she is attractive in her own right and plays the part with the honesty, elegance and intelligence we\\'ve come to expect from all her roles. There may be too much intelligence in her performance. You have to be kind of a dope to stick with a dope abusing dope.<br /><br />There\\'s nothing new to this story; we\\'ve heard it many times before. If you\\'ve looking for new info or insight, you won\\'t find it. It\\'s told as a love story - an unrequited one: Linda for Elvis and Elvis for drugs.'\n",
            " b\"Anyone interested in pop music, and not familiar with British music trends of the late-seventies, should be sure to watch Breaking Glass at least once. The movie, about a young woman's quest to make her mark in the music world, captures the times perfectly, from the overt sexism, rough economic times, social upheaval, to the shift in pop culture from rough-and-tumble punk to terribly fey and pretentious Futurism/New Romanticism. The music and fashion styles created daily in Britain in the late-seventies are still being rediscovered and recycled (there really has been nothing new since 1980). This was a dazzling time, and Breaking Glass both tells a very personal story and surveys the cultural landscape, and does both extremely well.\"\n",
            " b\"OK, first of all, ignore the last person' review. They admit to falling asleep through it so it's no wonder they didn't understand what was going on!!! As thriller/horrors go, this film ain't too bad, it is certainly very watchable. Right from the opening scenes you get a general idea exactly what is going to be the cause of all the craziness that follows, and come the end you are proved right with everything being made clear.<br /><br />I enjoyed this movie, it was quite eerie at times and as old films go it was passable. Great to watch late at night! I give it a generous 7 out of 10.\"]\n",
            "\n",
            "labels:  [0 1 1]\n"
          ]
        }
      ]
    },
    {
      "cell_type": "markdown",
      "source": [
        "Kode diatas digunakan untuk mempersiapkan dataset pelatihan (train_dataset) dan dataset uji (test_dataset) dalam TensorFlow untuk melatih model machine learning, kemungkinan besar untuk analisis sentimen pada ulasan IMDB. kode ini menyiapkan dataset pelatihan dan uji, mengacak dan membagi batch dataset pelatihan, serta membagi batch dataset uji. Loop terakhir mencetak teks dan label dari batch pertama dataset pelatihan, memberikan gambaran isi dan struktur dataset sebelum digunakan untuk melatih model machine learning."
      ],
      "metadata": {
        "id": "qQzKEhsopWYX"
      }
    },
    {
      "cell_type": "markdown",
      "source": [
        "Buat Teks Encoder"
      ],
      "metadata": {
        "id": "zBpP2I-tmQfr"
      }
    },
    {
      "cell_type": "code",
      "source": [
        "VOCAB_SIZE = 1000\n",
        "encoder = tf.keras.layers.TextVectorization(\n",
        "    max_tokens=VOCAB_SIZE)\n",
        "encoder.adapt(train_dataset.map(lambda text, label: text))"
      ],
      "metadata": {
        "id": "Js3yNztsmSI9"
      },
      "execution_count": null,
      "outputs": []
    },
    {
      "cell_type": "markdown",
      "source": [
        "digunakan untuk membuat dan mengonfigurasi layer TextVectorization pada TensorFlow, yang berfungsi untuk mengonversi teks menjadi representasi vektor numerik. Layer TextVectorization akan siap digunakan dalam arsitektur model, dan vocabulary-nya akan dibangun berdasarkan data pelatihan yang sebenarnya."
      ],
      "metadata": {
        "id": "-0CiBTEJpnIb"
      }
    },
    {
      "cell_type": "code",
      "source": [
        "vocab=np.array(encoder.get_vocabulary())\n",
        "vocab[:20]"
      ],
      "metadata": {
        "colab": {
          "base_uri": "https://localhost:8080/"
        },
        "id": "I6fePRoqmakW",
        "outputId": "f33f35ed-924a-489f-94cb-d406f1801196"
      },
      "execution_count": null,
      "outputs": [
        {
          "output_type": "execute_result",
          "data": {
            "text/plain": [
              "array(['', '[UNK]', 'the', 'and', 'a', 'of', 'to', 'is', 'in', 'it', 'i',\n",
              "       'this', 'that', 'br', 'was', 'as', 'for', 'with', 'movie', 'but'],\n",
              "      dtype='<U14')"
            ]
          },
          "metadata": {},
          "execution_count": 8
        }
      ]
    },
    {
      "cell_type": "markdown",
      "source": [
        "kode ini mengambil vocabulary yang telah dibangun oleh layer TextVectorization dan menyimpannya dalam bentuk array NumPy. Langkah ini dapat berguna untuk memeriksa kata-kata apa yang termasuk dalam vocabulary dan dapat membantu dalam pemahaman lebih lanjut tentang representasi teks yang akan digunakan oleh model."
      ],
      "metadata": {
        "id": "j5bWLDIZp31b"
      }
    },
    {
      "cell_type": "code",
      "source": [
        "encoded_example=encoder(example)[:3].numpy()\n",
        "encoded_example"
      ],
      "metadata": {
        "colab": {
          "base_uri": "https://localhost:8080/"
        },
        "id": "PjXRIouMmeB4",
        "outputId": "8b53d5d6-30ad-4a49-e9d4-0c64929476a6"
      },
      "execution_count": null,
      "outputs": [
        {
          "output_type": "execute_result",
          "data": {
            "text/plain": [
              "array([[ 23, 194, 130, ...,   0,   0,   0],\n",
              "       [253, 899,   8, ...,   0,   0,   0],\n",
              "       [597,  86,   5, ...,   0,   0,   0]])"
            ]
          },
          "metadata": {},
          "execution_count": 9
        }
      ]
    },
    {
      "cell_type": "markdown",
      "source": [
        "kode ini mengambil contoh teks dari dataset, menggunakan layer TextVectorization untuk mengonversi teks tersebut menjadi representasi numerik, dan kemudian mencetak hasil encoding-nya. Representasi numerik ini dapat digunakan sebagai input bagi model machine learning untuk pelatihan atau evaluasi."
      ],
      "metadata": {
        "id": "JvKe25RfqhjC"
      }
    },
    {
      "cell_type": "code",
      "source": [
        "for n in range(3):\n",
        "  print(\"Original: \", example[n].numpy())\n",
        "  print(\"Round-trip: \", \" \".join(vocab[encoded_example[n]]))\n",
        "  print()"
      ],
      "metadata": {
        "colab": {
          "base_uri": "https://localhost:8080/"
        },
        "id": "OgJB3b-1mh1d",
        "outputId": "8e955bfa-d299-4cd0-9694-78dc6cc9be65"
      },
      "execution_count": null,
      "outputs": [
        {
          "output_type": "stream",
          "name": "stdout",
          "text": [
            "Original:  b'You may say to yourself, \"Don Johnson as Elvis? Can that work? Is it possible? Seems like an terrible choice to me, but perhaps I should have an open mind. Maybe I\\'ll be surprised. Maybe he can pull it off.\"<br /><br />NOT!<br /><br />Don Johnson is not a bad actor. But he is an awful Elvis. He\\'s too short, too weak-voiced, too sharply featured ... well you\\'ve already imagined how bad he would be. Add to that a hokey black wig and heavy-handed eye-liner and mascara and it\\'s a big fat embarrassing mess.<br /><br />The best I can say is that since Johnson\\'s acting is decent and since his impersonation is so far off, after a while you don\\'t even think of him as Elvis anymore. You see him as some other crazed pop star instead. Then, on that level, the movie becomes watchable.<br /><br />Stephanie Zimbalist is also not ideally cast as the tall, beauty queen, Linda Thompson. But she is attractive in her own right and plays the part with the honesty, elegance and intelligence we\\'ve come to expect from all her roles. There may be too much intelligence in her performance. You have to be kind of a dope to stick with a dope abusing dope.<br /><br />There\\'s nothing new to this story; we\\'ve heard it many times before. If you\\'ve looking for new info or insight, you won\\'t find it. It\\'s told as a love story - an unrequited one: Linda for Elvis and Elvis for drugs.'\n",
            "Round-trip:  you may say to yourself [UNK] [UNK] as [UNK] can that work is it possible seems like an terrible [UNK] to me but perhaps i should have an open mind maybe ill be surprised maybe he can [UNK] it [UNK] br [UNK] br [UNK] [UNK] is not a bad actor but he is an awful [UNK] hes too short too [UNK] too [UNK] [UNK] well youve already [UNK] how bad he would be add to that a [UNK] black [UNK] and [UNK] [UNK] and [UNK] and its a big [UNK] [UNK] [UNK] br the best i can say is that since [UNK] acting is decent and since his [UNK] is so far off after a while you dont even think of him as [UNK] [UNK] you see him as some other [UNK] [UNK] star instead then on that level the movie becomes [UNK] br [UNK] [UNK] is also not [UNK] cast as the [UNK] beauty [UNK] [UNK] [UNK] but she is [UNK] in her own right and plays the part with the [UNK] [UNK] and [UNK] [UNK] come to expect from all her roles there may be too much [UNK] in her performance you have to be kind of a [UNK] to [UNK] with a [UNK] [UNK] [UNK] br theres nothing new to this story [UNK] heard it many times before if youve looking for new [UNK] or [UNK] you wont find it its told as a love story an [UNK] one [UNK] for [UNK] and [UNK] for [UNK]                                                                                                                                                                                                                                                                                                                                                                                                                                                                                                                                                                                                                                                                                                                                                         \n",
            "\n",
            "Original:  b\"Anyone interested in pop music, and not familiar with British music trends of the late-seventies, should be sure to watch Breaking Glass at least once. The movie, about a young woman's quest to make her mark in the music world, captures the times perfectly, from the overt sexism, rough economic times, social upheaval, to the shift in pop culture from rough-and-tumble punk to terribly fey and pretentious Futurism/New Romanticism. The music and fashion styles created daily in Britain in the late-seventies are still being rediscovered and recycled (there really has been nothing new since 1980). This was a dazzling time, and Breaking Glass both tells a very personal story and surveys the cultural landscape, and does both extremely well.\"\n",
            "Round-trip:  anyone interested in [UNK] music and not [UNK] with british music [UNK] of the [UNK] should be sure to watch [UNK] [UNK] at least once the movie about a young [UNK] [UNK] to make her mark in the music world [UNK] the times perfectly from the [UNK] [UNK] [UNK] [UNK] times [UNK] [UNK] to the [UNK] in [UNK] [UNK] from [UNK] [UNK] to [UNK] [UNK] and [UNK] [UNK] [UNK] the music and [UNK] [UNK] [UNK] [UNK] in [UNK] in the [UNK] are still being [UNK] and [UNK] there really has been nothing new since [UNK] this was a [UNK] time and [UNK] [UNK] both tells a very personal story and [UNK] the [UNK] [UNK] and does both extremely well                                                                                                                                                                                                                                                                                                                                                                                                                                                                                                                                                                                                                                                                                                                                                                                                                                                                                           \n",
            "\n",
            "Original:  b\"OK, first of all, ignore the last person' review. They admit to falling asleep through it so it's no wonder they didn't understand what was going on!!! As thriller/horrors go, this film ain't too bad, it is certainly very watchable. Right from the opening scenes you get a general idea exactly what is going to be the cause of all the craziness that follows, and come the end you are proved right with everything being made clear.<br /><br />I enjoyed this movie, it was quite eerie at times and as old films go it was passable. Great to watch late at night! I give it a generous 7 out of 10.\"\n",
            "Round-trip:  ok first of all [UNK] the last person review they admit to [UNK] [UNK] through it so its no wonder they didnt understand what was going on as [UNK] go this film [UNK] too bad it is certainly very [UNK] right from the opening scenes you get a general idea exactly what is going to be the [UNK] of all the [UNK] that [UNK] and come the end you are [UNK] right with everything being made [UNK] br i enjoyed this movie it was quite [UNK] at times and as old films go it was [UNK] great to watch late at night i give it a [UNK] [UNK] out of 10                                                                                                                                                                                                                                                                                                                                                                                                                                                                                                                                                                                                                                                                                                                                                                                                                                                                                                   \n",
            "\n"
          ]
        }
      ]
    },
    {
      "cell_type": "markdown",
      "source": [
        "kode ini memberikan pemahaman tentang bagaimana teks asli dan teks yang sudah diencode kemudian didecode kembali (round-trip) dengan menggunakan layer TextVectorization. Ini berguna untuk memeriksa seberapa baik proses encoding-decoding tersebut mempertahankan informasi teks asli."
      ],
      "metadata": {
        "id": "jr41KdJdquZA"
      }
    },
    {
      "cell_type": "markdown",
      "source": [
        "A drawing of the information flow in the model"
      ],
      "metadata": {
        "id": "fIxx_k2bmnyC"
      }
    },
    {
      "cell_type": "code",
      "source": [
        "model = tf.keras.Sequential([\n",
        "    encoder,\n",
        "    tf.keras.layers.Embedding(\n",
        "        input_dim=len(encoder.get_vocabulary()),\n",
        "        output_dim=64,\n",
        "        # Use masking to handle the variable sequence lengths\n",
        "        mask_zero=True),\n",
        "    tf.keras.layers.Bidirectional(tf.keras.layers.LSTM(64)),\n",
        "    tf.keras.layers.Dense(64, activation='relu'),\n",
        "    tf.keras.layers.Dense(1)\n",
        "])"
      ],
      "metadata": {
        "id": "zoDW4mYSmt7U"
      },
      "execution_count": null,
      "outputs": []
    },
    {
      "cell_type": "code",
      "source": [
        "print([layer.supports_masking for layer in model.layers])"
      ],
      "metadata": {
        "colab": {
          "base_uri": "https://localhost:8080/"
        },
        "id": "Xj5oij4DmxF3",
        "outputId": "05a7c3b9-38a5-432b-9af8-d50a392f05ec"
      },
      "execution_count": null,
      "outputs": [
        {
          "output_type": "stream",
          "name": "stdout",
          "text": [
            "[False, True, True, True, True]\n"
          ]
        }
      ]
    },
    {
      "cell_type": "markdown",
      "source": [
        "model ini memiliki struktur yang melibatkan proses vektorisasi teks, embedding, pemrosesan LSTM bidireksional, dan beberapa lapisan Dense untuk output. Model ini cocok untuk tugas seperti analisis sentimen di mana informasi urutan dalam teks penting. Hasil yang di run antara False dan True."
      ],
      "metadata": {
        "id": "mohJ1HB6q8ik"
      }
    },
    {
      "cell_type": "code",
      "source": [
        "# predict on a sample text without padding.\n",
        "\n",
        "sample_text = ('The movie was cool. The animation and the graphics '\n",
        "               'were out of this world. I would recommend this movie.')\n",
        "predictions = model.predict(np.array([sample_text]))\n",
        "print(predictions[0])"
      ],
      "metadata": {
        "colab": {
          "base_uri": "https://localhost:8080/"
        },
        "id": "t-8-omlPm4fg",
        "outputId": "f4b07a46-566e-4d72-bad0-29f9bc69484e"
      },
      "execution_count": null,
      "outputs": [
        {
          "output_type": "stream",
          "name": "stdout",
          "text": [
            "1/1 [==============================] - 3s 3s/step\n",
            "[0.00916238]\n"
          ]
        }
      ]
    },
    {
      "cell_type": "code",
      "source": [
        "# predict on a sample text with padding\n",
        "\n",
        "padding = \"the \" * 2000\n",
        "predictions = model.predict(np.array([sample_text, padding]))\n",
        "print(predictions[0])"
      ],
      "metadata": {
        "colab": {
          "base_uri": "https://localhost:8080/"
        },
        "id": "yTKrdoWVm7SM",
        "outputId": "1f7a5166-e708-4cda-ef11-aad1e065a1b6"
      },
      "execution_count": null,
      "outputs": [
        {
          "output_type": "stream",
          "name": "stdout",
          "text": [
            "1/1 [==============================] - 1s 589ms/step\n",
            "[0.00916238]\n"
          ]
        }
      ]
    },
    {
      "cell_type": "code",
      "source": [
        "model.compile(loss=tf.keras.losses.BinaryCrossentropy(from_logits=True),\n",
        "              optimizer=tf.keras.optimizers.Adam(1e-4),\n",
        "              metrics=['accuracy'])"
      ],
      "metadata": {
        "id": "ZIbgB40Tm-Pf"
      },
      "execution_count": null,
      "outputs": []
    },
    {
      "cell_type": "markdown",
      "source": [
        "Train Model"
      ],
      "metadata": {
        "id": "l_GtlIyunBYP"
      }
    },
    {
      "cell_type": "code",
      "source": [
        "history = model.fit(train_dataset, epochs=10,\n",
        "                    validation_data=test_dataset,\n",
        "                    validation_steps=30)"
      ],
      "metadata": {
        "colab": {
          "base_uri": "https://localhost:8080/"
        },
        "id": "jGHUR98znB82",
        "outputId": "a4ecc91e-3a99-49d6-a82c-5c869f05c0d2"
      },
      "execution_count": null,
      "outputs": [
        {
          "output_type": "stream",
          "name": "stdout",
          "text": [
            "Epoch 1/10\n",
            "391/391 [==============================] - 655s 2s/step - loss: 0.6255 - accuracy: 0.5896 - val_loss: 0.4519 - val_accuracy: 0.7750\n",
            "Epoch 2/10\n",
            "391/391 [==============================] - 619s 2s/step - loss: 0.3843 - accuracy: 0.8282 - val_loss: 0.3526 - val_accuracy: 0.8349\n",
            "Epoch 3/10\n",
            "391/391 [==============================] - 631s 2s/step - loss: 0.3332 - accuracy: 0.8532 - val_loss: 0.3370 - val_accuracy: 0.8469\n",
            "Epoch 4/10\n",
            "391/391 [==============================] - 630s 2s/step - loss: 0.3219 - accuracy: 0.8601 - val_loss: 0.3242 - val_accuracy: 0.8557\n",
            "Epoch 5/10\n",
            "391/391 [==============================] - 626s 2s/step - loss: 0.3103 - accuracy: 0.8657 - val_loss: 0.3300 - val_accuracy: 0.8578\n",
            "Epoch 6/10\n",
            "391/391 [==============================] - 631s 2s/step - loss: 0.3072 - accuracy: 0.8670 - val_loss: 0.3214 - val_accuracy: 0.8521\n",
            "Epoch 7/10\n",
            "391/391 [==============================] - 636s 2s/step - loss: 0.3038 - accuracy: 0.8699 - val_loss: 0.3208 - val_accuracy: 0.8536\n",
            "Epoch 8/10\n",
            "391/391 [==============================] - 625s 2s/step - loss: 0.3021 - accuracy: 0.8691 - val_loss: 0.3277 - val_accuracy: 0.8615\n",
            "Epoch 9/10\n",
            "391/391 [==============================] - 624s 2s/step - loss: 0.3001 - accuracy: 0.8708 - val_loss: 0.3265 - val_accuracy: 0.8656\n",
            "Epoch 10/10\n",
            "391/391 [==============================] - 619s 2s/step - loss: 0.3008 - accuracy: 0.8710 - val_loss: 0.3234 - val_accuracy: 0.8583\n"
          ]
        }
      ]
    },
    {
      "cell_type": "markdown",
      "source": [
        "Proses pelatihan model menggunakan fit ini memanfaatkan dataset pelatihan dan validasi yang sudah disiapkan sebelumnya. Model akan diupdate berdasarkan loss yang dihasilkan selama proses pelatihan. Setelah proses pelatihan selesai, dapat menggunakan history untuk memahami bagaimana performa model berkembang seiring waktu pada data pelatihan dan validasi."
      ],
      "metadata": {
        "id": "LBQ1Q6_2rLgQ"
      }
    },
    {
      "cell_type": "code",
      "source": [
        "test_loss, test_acc = model.evaluate(test_dataset)\n",
        "\n",
        "print('Test Loss:', test_loss)\n",
        "print('Test Accuracy:', test_acc)"
      ],
      "metadata": {
        "colab": {
          "base_uri": "https://localhost:8080/"
        },
        "id": "EBySUo3caGWb",
        "outputId": "e79c1a8a-ba50-4d8f-9377-bfa37a3e4bbf"
      },
      "execution_count": null,
      "outputs": [
        {
          "output_type": "stream",
          "name": "stdout",
          "text": [
            "391/391 [==============================] - 148s 379ms/step - loss: 0.3197 - accuracy: 0.8616\n",
            "Test Loss: 0.3197037875652313\n",
            "Test Accuracy: 0.8616399765014648\n"
          ]
        }
      ]
    },
    {
      "cell_type": "markdown",
      "source": [
        "setelah model selesai dilatih, langkah ini memberikan informasi tentang seberapa baik model tersebut dapat melakukan prediksi pada data uji yang belum pernah dilihat selama proses pelatihan. Output ini dapat memberikan pemahaman tentang seberapa baik model dapat melakukan generalisasi ke data baru yang tidak digunakan selama pelatihan. Idealnya, kita ingin nilai loss sekecil mungkin dan akurasi sebesar mungkin pada data uji."
      ],
      "metadata": {
        "id": "VUM0Y1hhbn0_"
      }
    },
    {
      "cell_type": "markdown",
      "source": [],
      "metadata": {
        "id": "Bmi4PAUQaF75"
      }
    },
    {
      "cell_type": "code",
      "source": [
        "plt.figure(figsize=(16, 8))\n",
        "plt.subplot(1, 2, 1)\n",
        "plot_graphs(history, 'accuracy')\n",
        "plt.ylim(None, 1)\n",
        "plt.subplot(1, 2, 2)\n",
        "plot_graphs(history, 'loss')\n",
        "plt.ylim(0, None)"
      ],
      "metadata": {
        "colab": {
          "base_uri": "https://localhost:8080/",
          "height": 719
        },
        "id": "1Izb3guZayNh",
        "outputId": "0b49110b-9067-4cd0-c19d-313cb28e88b6"
      },
      "execution_count": null,
      "outputs": [
        {
          "output_type": "execute_result",
          "data": {
            "text/plain": [
              "(0.0, 0.6417324781417847)"
            ]
          },
          "metadata": {},
          "execution_count": 18
        },
        {
          "output_type": "display_data",
          "data": {
            "text/plain": [
              "<Figure size 1600x800 with 2 Axes>"
            ],
            "image/png": "[encoded data removed]"
          },
          "metadata": {}
        }
      ]
    },
    {
      "cell_type": "markdown",
      "source": [
        "kode ini membuat sebuah gambar (figure) yang berisi dua subplot: satu untuk grafik akurasi dan satu untuk grafik loss. plot_graphs diasumsikan sebagai suatu fungsi yang memplot grafik berdasarkan data dari objek history. Anda mungkin perlu melihat atau mendefinisikan kembali fungsi plot_graphs untuk memahami bagaimana grafik akurasi dan loss dihasilkan dan dipresentasikan."
      ],
      "metadata": {
        "id": "R3vsDtTAbwA9"
      }
    },
    {
      "cell_type": "markdown",
      "source": [],
      "metadata": {
        "id": "E40P-Qema-Pw"
      }
    },
    {
      "cell_type": "code",
      "source": [
        "sample_text = ('The movie was cool. The animation and the graphics '\n",
        "'were out of this world. I would recommend this movie.')\n",
        "predictions = model.predict(np.array([sample_text]))"
      ],
      "metadata": {
        "colab": {
          "base_uri": "https://localhost:8080/"
        },
        "id": "_0sOukfBa-xf",
        "outputId": "ced9115f-04b9-44ea-cff4-a3f75eb74a63"
      },
      "execution_count": null,
      "outputs": [
        {
          "output_type": "stream",
          "name": "stdout",
          "text": [
            "1/1 [==============================] - 3s 3s/step\n"
          ]
        }
      ]
    },
    {
      "cell_type": "markdown",
      "source": [
        "Stack two or more LSTM layers"
      ],
      "metadata": {
        "id": "k1VExRQKbJBn"
      }
    },
    {
      "cell_type": "code",
      "source": [
        "model = tf.keras.Sequential([\n",
        " encoder,\n",
        " tf.keras.layers.Embedding(len(encoder.get_vocabulary()), 64, mask_zero=True),\n",
        " tf.keras.layers.Bidirectional(tf.keras.layers.LSTM(64, return_sequences=True)),\n",
        " tf.keras.layers.Bidirectional(tf.keras.layers.LSTM(32)),\n",
        " tf.keras.layers.Dense(64, activation='relu'),\n",
        " tf.keras.layers.Dropout(0.5),\n",
        " tf.keras.layers.Dense(1)\n",
        "])"
      ],
      "metadata": {
        "id": "B7TAAji7bK0G"
      },
      "execution_count": null,
      "outputs": []
    },
    {
      "cell_type": "markdown",
      "source": [
        "model ini memiliki struktur yang melibatkan proses vektorisasi teks, embedding, pemrosesan LSTM bidireksional, beberapa lapisan Dense, dropout untuk regularisasi, dan output layer untuk prediksi. Model ini dirancang untuk tugas seperti analisis sentimen di mana informasi urutan dalam teks penting."
      ],
      "metadata": {
        "id": "C5k2FmW8fdQ3"
      }
    },
    {
      "cell_type": "code",
      "source": [
        "model.compile(loss=tf.keras.losses.BinaryCrossentropy(from_logits=True),\n",
        " optimizer=tf.keras.optimizers.Adam(1e-4),\n",
        "metrics=['accuracy'])"
      ],
      "metadata": {
        "id": "7zxuZyBnbUa0"
      },
      "execution_count": null,
      "outputs": []
    },
    {
      "cell_type": "code",
      "source": [
        "history = model.fit(train_dataset, epochs=10,\n",
        "validation_data=test_dataset,\n",
        "validation_steps=30)"
      ],
      "metadata": {
        "colab": {
          "base_uri": "https://localhost:8080/"
        },
        "id": "WYt7wkMVbZXg",
        "outputId": "3c72e1c5-45d0-476f-f54a-7373cb9120ea"
      },
      "execution_count": null,
      "outputs": [
        {
          "output_type": "stream",
          "name": "stdout",
          "text": [
            "Epoch 1/10\n",
            "391/391 [==============================] - 1260s 3s/step - loss: 0.6513 - accuracy: 0.5591 - val_loss: 0.4936 - val_accuracy: 0.7792\n",
            "Epoch 2/10\n",
            "391/391 [==============================] - 1207s 3s/step - loss: 0.4317 - accuracy: 0.8054 - val_loss: 0.3838 - val_accuracy: 0.8146\n",
            "Epoch 3/10\n",
            "391/391 [==============================] - 1211s 3s/step - loss: 0.3771 - accuracy: 0.8360 - val_loss: 0.3515 - val_accuracy: 0.8411\n",
            "Epoch 4/10\n",
            "391/391 [==============================] - 1214s 3s/step - loss: 0.3494 - accuracy: 0.8512 - val_loss: 0.3472 - val_accuracy: 0.8344\n",
            "Epoch 5/10\n",
            "391/391 [==============================] - 1210s 3s/step - loss: 0.3251 - accuracy: 0.8602 - val_loss: 0.3249 - val_accuracy: 0.8536\n",
            "Epoch 6/10\n",
            "391/391 [==============================] - 1217s 3s/step - loss: 0.3163 - accuracy: 0.8634 - val_loss: 0.3203 - val_accuracy: 0.8620\n",
            "Epoch 7/10\n",
            "391/391 [==============================] - 1223s 3s/step - loss: 0.3092 - accuracy: 0.8666 - val_loss: 0.3200 - val_accuracy: 0.8583\n",
            "Epoch 8/10\n",
            "391/391 [==============================] - 1220s 3s/step - loss: 0.3036 - accuracy: 0.8687 - val_loss: 0.3148 - val_accuracy: 0.8609\n",
            "Epoch 9/10\n",
            "391/391 [==============================] - 1226s 3s/step - loss: 0.3043 - accuracy: 0.8692 - val_loss: 0.3218 - val_accuracy: 0.8620\n",
            "Epoch 10/10\n",
            "391/391 [==============================] - 1224s 3s/step - loss: 0.2987 - accuracy: 0.8734 - val_loss: 0.3183 - val_accuracy: 0.8583\n"
          ]
        }
      ]
    },
    {
      "cell_type": "markdown",
      "source": [
        "Variabel history menyimpan informasi mengenai proses pelatihan, seperti akurasi dan loss, untuk setiap epoch. Ini dapat digunakan untuk analisis lebih lanjut atau visualisasi performa model.\n",
        "Proses pelatihan model menggunakan fit ini memanfaatkan dataset pelatihan dan validasi yang sudah disiapkan sebelumnya. Model akan diupdate berdasarkan loss yang dihasilkan selama proses pelatihan. Setelah proses pelatihan selesai, Anda dapat menggunakan history untuk memahami bagaimana performa model berkembang seiring waktu pada data pelatihan dan validasi."
      ],
      "metadata": {
        "id": "6dIFkSA82CRi"
      }
    },
    {
      "cell_type": "code",
      "source": [
        "test_loss, test_acc = model.evaluate(test_dataset)\n",
        "\n",
        "print('Test Loss:', test_loss)\n",
        "print('Test Accuracy:', test_acc)"
      ],
      "metadata": {
        "id": "-_OBNSR9bfrT",
        "colab": {
          "base_uri": "https://localhost:8080/"
        },
        "outputId": "d8ab559a-d6a6-4ff6-bc57-c12f1d79f7a6"
      },
      "execution_count": null,
      "outputs": [
        {
          "output_type": "stream",
          "name": "stdout",
          "text": [
            "391/391 [==============================] - 263s 674ms/step - loss: 0.3163 - accuracy: 0.8582\n",
            "Test Loss: 0.3163456320762634\n",
            "Test Accuracy: 0.8581600189208984\n"
          ]
        }
      ]
    },
    {
      "cell_type": "code",
      "source": [
        "# predict on a sample text without padding.\n",
        "\n",
        "sample_text = ('The movie was not good. The animation and the graphics '\n",
        "'were terrible. I would not recommend this movie.')\n",
        "predictions = model.predict(np.array([sample_text]))\n",
        "print(predictions)"
      ],
      "metadata": {
        "colab": {
          "base_uri": "https://localhost:8080/"
        },
        "id": "5Ou-kViUxwon",
        "outputId": "40c993d0-268f-44df-c9c2-572ed55c1c97"
      },
      "execution_count": null,
      "outputs": [
        {
          "output_type": "stream",
          "name": "stdout",
          "text": [
            "1/1 [==============================] - 8s 8s/step\n",
            "[[-1.55659]]\n"
          ]
        }
      ]
    },
    {
      "cell_type": "code",
      "source": [
        "plt.figure(figsize=(16, 6))\n",
        "plt.subplot(1, 2, 1)\n",
        "plot_graphs(history, 'accuracy')\n",
        "plt.subplot(1, 2, 2)\n",
        "plot_graphs(history, 'loss')"
      ],
      "metadata": {
        "colab": {
          "base_uri": "https://localhost:8080/",
          "height": 542
        },
        "id": "58sgDJm-x1-g",
        "outputId": "b5c6d095-d9cc-485b-8c58-77f7bd4578d3"
      },
      "execution_count": null,
      "outputs": [
        {
          "output_type": "display_data",
          "data": {
            "text/plain": [
              "<Figure size 1600x600 with 2 Axes>"
            ],
            "image/png": "[encoded data removed]"
          },
          "metadata": {}
        }
      ]
    },
    {
      "cell_type": "markdown",
      "source": [
        "kode ini membuat sebuah gambar (figure) yang berisi dua subplot: satu untuk grafik akurasi dan satu untuk grafik loss. plot_graphs diasumsikan sebagai suatu fungsi yang memplot grafik berdasarkan data dari objek history. Anda mungkin perlu melihat atau mendefinisikan kembali fungsi plot_graphs untuk memahami bagaimana grafik akurasi dan loss dihasilkan dan dipresentasikan."
      ],
      "metadata": {
        "id": "PxTUR4P_2Lwc"
      }
    },
    {
      "cell_type": "markdown",
      "source": [
        "# Praktikum 2"
      ],
      "metadata": {
        "id": "0yZOALGqx4Cv"
      }
    },
    {
      "cell_type": "markdown",
      "source": [
        "**Setup**\n",
        "\n",
        " Import TensorFlow"
      ],
      "metadata": {
        "id": "KN-zH3wNx_yT"
      }
    },
    {
      "cell_type": "code",
      "source": [
        "import tensorflow as tf\n",
        "import numpy as np\n",
        "import os\n",
        "import time"
      ],
      "metadata": {
        "id": "KLgs10fsx87g"
      },
      "execution_count": null,
      "outputs": []
    },
    {
      "cell_type": "markdown",
      "source": [
        "Download Dataset Shakespeare"
      ],
      "metadata": {
        "id": "qs0fSBwJyJC-"
      }
    },
    {
      "cell_type": "code",
      "source": [
        "path_to_file=tf.keras.utils.get_file('shakespeare.txt','https://storage.googleapis.com/download.tensorflow.org/data/shakespeare.txt')"
      ],
      "metadata": {
        "colab": {
          "base_uri": "https://localhost:8080/"
        },
        "id": "0yk60AegyDgn",
        "outputId": "0ab64ef0-82d5-49ef-8a98-239599b0514e"
      },
      "execution_count": null,
      "outputs": [
        {
          "output_type": "stream",
          "name": "stdout",
          "text": [
            "Downloading data from https://storage.googleapis.com/download.tensorflow.org/data/shakespeare.txt\n",
            "1115394/1115394 [==============================] - 0s 0us/step\n"
          ]
        }
      ]
    },
    {
      "cell_type": "markdown",
      "source": [
        " kode program ini digunakan untuk mendownload file teks Shakespeare dari internet dan menyimpannya di suatu lokasi yang dapat diakses melalui path yang diberikan oleh variabel path_to_file."
      ],
      "metadata": {
        "id": "SnoWnCPv2e_h"
      }
    },
    {
      "cell_type": "markdown",
      "source": [
        "Load Data"
      ],
      "metadata": {
        "id": "So-wJIuhyZKC"
      }
    },
    {
      "cell_type": "code",
      "source": [
        "# Read, then decode for py2 compat.\n",
        "text = open(path_to_file, 'rb').read().decode(encoding='utf-8')\n",
        "# length of text is the number of characters in it\n",
        "print(f'Length of text: {len(text)} characters')"
      ],
      "metadata": {
        "colab": {
          "base_uri": "https://localhost:8080/"
        },
        "id": "5l3S6UeAyabf",
        "outputId": "b74c9937-a240-4d95-f76b-84d97a11b288"
      },
      "execution_count": null,
      "outputs": [
        {
          "output_type": "stream",
          "name": "stdout",
          "text": [
            "Length of text: 1115394 characters\n"
          ]
        }
      ]
    },
    {
      "cell_type": "markdown",
      "source": [
        "keseluruhan kode ini membaca file teks yang telah diunduh, mendekode isinya, dan kemudian mencetak panjang (jumlah karakter) dari teks tersebut."
      ],
      "metadata": {
        "id": "NPTP6WSP2lLp"
      }
    },
    {
      "cell_type": "code",
      "source": [
        "# Take a look at the first 250 characters in text\n",
        "print(text[:250])"
      ],
      "metadata": {
        "colab": {
          "base_uri": "https://localhost:8080/"
        },
        "id": "iSU0YXbtydhh",
        "outputId": "12992c75-ff47-4598-d579-ae2a8de62906"
      },
      "execution_count": null,
      "outputs": [
        {
          "output_type": "stream",
          "name": "stdout",
          "text": [
            "First Citizen:\n",
            "Before we proceed any further, hear me speak.\n",
            "\n",
            "All:\n",
            "Speak, speak.\n",
            "\n",
            "First Citizen:\n",
            "You are all resolved rather to die than to famish?\n",
            "\n",
            "All:\n",
            "Resolved. resolved.\n",
            "\n",
            "First Citizen:\n",
            "First, you know Caius Marcius is chief enemy to the people.\n",
            "\n"
          ]
        }
      ]
    },
    {
      "cell_type": "markdown",
      "source": [
        "kode ini memberikan tampilan awal dari isi teks dengan mencetak 250 karakter pertama ke konsol. Hal ini berguna untuk mendapatkan gambaran umum tentang struktur dan konten awal dari teks yang sedang diolah."
      ],
      "metadata": {
        "id": "FGgBKv8B2rAf"
      }
    },
    {
      "cell_type": "code",
      "source": [
        "# The unique characters in the file\n",
        "vocab = sorted(set(text))\n",
        "print(f'{len(vocab)} unique characters')"
      ],
      "metadata": {
        "colab": {
          "base_uri": "https://localhost:8080/"
        },
        "id": "mbuiryI0yghd",
        "outputId": "30fd853c-d217-4cb1-ef69-e4e7a1c02682"
      },
      "execution_count": null,
      "outputs": [
        {
          "output_type": "stream",
          "name": "stdout",
          "text": [
            "65 unique characters\n"
          ]
        }
      ]
    },
    {
      "cell_type": "markdown",
      "source": [
        "kode diatas berguna untuk mencetakjumlah  karaketer yang unik"
      ],
      "metadata": {
        "id": "yrU3PMRb2s_O"
      }
    },
    {
      "cell_type": "markdown",
      "source": [
        "**Olah** **Teks**\n",
        "\n",
        "Vectorize Teks"
      ],
      "metadata": {
        "id": "GrIzVrOQylf6"
      }
    },
    {
      "cell_type": "code",
      "source": [
        "example_texts=['abcdefg','xyz']\n",
        "chars=tf.strings.unicode_split(example_texts,input_encoding='UTF-8')\n",
        "chars"
      ],
      "metadata": {
        "colab": {
          "base_uri": "https://localhost:8080/"
        },
        "id": "l-z8fLd5yr3P",
        "outputId": "924a9353-4290-4cd1-db03-513be27a7cc7"
      },
      "execution_count": null,
      "outputs": [
        {
          "output_type": "execute_result",
          "data": {
            "text/plain": [
              "<tf.RaggedTensor [[b'a', b'b', b'c', b'd', b'e', b'f', b'g'], [b'x', b'y', b'z']]>"
            ]
          },
          "metadata": {},
          "execution_count": 32
        }
      ]
    },
    {
      "cell_type": "code",
      "source": [
        "ids_from_chars=tf.keras.layers.StringLookup(\n",
        "vocabulary=list(vocab),mask_token=None)"
      ],
      "metadata": {
        "id": "GFRGhOZay2gE"
      },
      "execution_count": null,
      "outputs": []
    },
    {
      "cell_type": "code",
      "source": [
        "ids=ids_from_chars(chars)\n",
        "ids"
      ],
      "metadata": {
        "colab": {
          "base_uri": "https://localhost:8080/"
        },
        "id": "OXfH5RFBy7QS",
        "outputId": "5ac48714-89b7-48a7-de1c-cd7427503e7c"
      },
      "execution_count": null,
      "outputs": [
        {
          "output_type": "execute_result",
          "data": {
            "text/plain": [
              "<tf.RaggedTensor [[40, 41, 42, 43, 44, 45, 46], [63, 64, 65]]>"
            ]
          },
          "metadata": {},
          "execution_count": 34
        }
      ]
    },
    {
      "cell_type": "code",
      "source": [
        "chars_from_ids = tf.keras.layers.StringLookup(\n",
        "    vocabulary=ids_from_chars.get_vocabulary(), invert=True, mask_token=None)"
      ],
      "metadata": {
        "id": "LJc_BEYiy-sF"
      },
      "execution_count": null,
      "outputs": []
    },
    {
      "cell_type": "code",
      "source": [
        "chars=chars_from_ids(ids)\n",
        "chars"
      ],
      "metadata": {
        "colab": {
          "base_uri": "https://localhost:8080/"
        },
        "id": "nmAF9x7czBEv",
        "outputId": "4f86d47c-6b15-44e3-cb03-f2e581677b5c"
      },
      "execution_count": null,
      "outputs": [
        {
          "output_type": "execute_result",
          "data": {
            "text/plain": [
              "<tf.RaggedTensor [[b'a', b'b', b'c', b'd', b'e', b'f', b'g'], [b'x', b'y', b'z']]>"
            ]
          },
          "metadata": {},
          "execution_count": 36
        }
      ]
    },
    {
      "cell_type": "code",
      "source": [
        "tf.strings.reduce_join(chars,axis=-1).numpy()"
      ],
      "metadata": {
        "colab": {
          "base_uri": "https://localhost:8080/"
        },
        "id": "f0kwY8WszD_9",
        "outputId": "dd1d4419-37c5-4e3c-fc1f-247bd46070d2"
      },
      "execution_count": null,
      "outputs": [
        {
          "output_type": "execute_result",
          "data": {
            "text/plain": [
              "array([b'abcdefg', b'xyz'], dtype=object)"
            ]
          },
          "metadata": {},
          "execution_count": 37
        }
      ]
    },
    {
      "cell_type": "code",
      "source": [
        "def text_from_ids(ids):\n",
        "    return tf.strings.reduce_join(chars_from_ids(ids),axis=-1)"
      ],
      "metadata": {
        "id": "NlG2WEl7zG7g"
      },
      "execution_count": null,
      "outputs": []
    },
    {
      "cell_type": "markdown",
      "source": [
        "Membuat Training Set dan Target"
      ],
      "metadata": {
        "id": "7vCg_I-ozNiY"
      }
    },
    {
      "cell_type": "code",
      "source": [
        "all_ids=ids_from_chars(tf.strings.unicode_split(text,'UTF-8'))\n",
        "all_ids\n",
        "ids_dataset=tf.data.Dataset.from_tensor_slices(all_ids)\n",
        "for ids in ids_dataset.take(10):\n",
        "    print(chars_from_ids(ids).numpy().decode('utf-8'))\n",
        "seq_length = 100"
      ],
      "metadata": {
        "colab": {
          "base_uri": "https://localhost:8080/"
        },
        "id": "3MUjMSJRzRmc",
        "outputId": "6ce664b2-3b9f-49ae-8662-6e594c93c3d3"
      },
      "execution_count": null,
      "outputs": [
        {
          "output_type": "stream",
          "name": "stdout",
          "text": [
            "F\n",
            "i\n",
            "r\n",
            "s\n",
            "t\n",
            " \n",
            "C\n",
            "i\n",
            "t\n",
            "i\n"
          ]
        }
      ]
    },
    {
      "cell_type": "markdown",
      "source": [
        "Secara keseluruhan, kode ini melibatkan proses pengolahan teks yang mencakup konversi karakter menjadi ID, pembuatan dataset, dan pengambilan 10 contoh urutan karakter unicode untuk ditampilkan. Selain itu, panjang urutan sebesar 100 juga telah didefinisikan untuk digunakan di langkah-langkah berikutnya."
      ],
      "metadata": {
        "id": "4W1ShLMk3C1k"
      }
    },
    {
      "cell_type": "code",
      "source": [
        "sequences = ids_dataset.batch(seq_length+1, drop_remainder=True)\n",
        "\n",
        "for seq in sequences.take(1):\n",
        "  print(chars_from_ids(seq))"
      ],
      "metadata": {
        "colab": {
          "base_uri": "https://localhost:8080/"
        },
        "id": "y3CSKqelzhbu",
        "outputId": "84edd5dc-fd5e-4de1-9cb3-38a3bfdf83f4"
      },
      "execution_count": null,
      "outputs": [
        {
          "output_type": "stream",
          "name": "stdout",
          "text": [
            "tf.Tensor(\n",
            "[b'F' b'i' b'r' b's' b't' b' ' b'C' b'i' b't' b'i' b'z' b'e' b'n' b':'\n",
            " b'\\n' b'B' b'e' b'f' b'o' b'r' b'e' b' ' b'w' b'e' b' ' b'p' b'r' b'o'\n",
            " b'c' b'e' b'e' b'd' b' ' b'a' b'n' b'y' b' ' b'f' b'u' b'r' b't' b'h'\n",
            " b'e' b'r' b',' b' ' b'h' b'e' b'a' b'r' b' ' b'm' b'e' b' ' b's' b'p'\n",
            " b'e' b'a' b'k' b'.' b'\\n' b'\\n' b'A' b'l' b'l' b':' b'\\n' b'S' b'p' b'e'\n",
            " b'a' b'k' b',' b' ' b's' b'p' b'e' b'a' b'k' b'.' b'\\n' b'\\n' b'F' b'i'\n",
            " b'r' b's' b't' b' ' b'C' b'i' b't' b'i' b'z' b'e' b'n' b':' b'\\n' b'Y'\n",
            " b'o' b'u' b' '], shape=(101,), dtype=string)\n"
          ]
        }
      ]
    },
    {
      "cell_type": "markdown",
      "source": [
        "kode ini berguna untuk melihat struktur dan konten dari satu batch pertama dari urutan karakter unicode setelah diubah dari ID. Proses ini dapat membantu pemahaman lebih lanjut tentang bagaimana data sedang diproses dan disiapkan untuk digunakan dalam pelatihan atau pemodelan lebih lanjut."
      ],
      "metadata": {
        "id": "WXRFhpkZ3KIg"
      }
    },
    {
      "cell_type": "code",
      "source": [
        "for seq in sequences.take(5):\n",
        "    print(text_from_ids(seq).numpy())"
      ],
      "metadata": {
        "colab": {
          "base_uri": "https://localhost:8080/"
        },
        "id": "FxJqlGKXzon4",
        "outputId": "81680342-c9dc-4654-e99f-8698e23489d7"
      },
      "execution_count": null,
      "outputs": [
        {
          "output_type": "stream",
          "name": "stdout",
          "text": [
            "b'First Citizen:\\nBefore we proceed any further, hear me speak.\\n\\nAll:\\nSpeak, speak.\\n\\nFirst Citizen:\\nYou '\n",
            "b'are all resolved rather to die than to famish?\\n\\nAll:\\nResolved. resolved.\\n\\nFirst Citizen:\\nFirst, you k'\n",
            "b\"now Caius Marcius is chief enemy to the people.\\n\\nAll:\\nWe know't, we know't.\\n\\nFirst Citizen:\\nLet us ki\"\n",
            "b\"ll him, and we'll have corn at our own price.\\nIs't a verdict?\\n\\nAll:\\nNo more talking on't; let it be d\"\n",
            "b'one: away, away!\\n\\nSecond Citizen:\\nOne word, good citizens.\\n\\nFirst Citizen:\\nWe are accounted poor citi'\n"
          ]
        }
      ]
    },
    {
      "cell_type": "markdown",
      "source": [
        "kode ini berguna untuk melihat hasil teks yang dihasilkan dari lima batch pertama urutan karakter unicode. Ini dapat memberikan wawasan lebih lanjut tentang struktur dan konten data yang sedang diproses dan digunakan dalam konteks tertentu, seperti dalam pemodelan atau pelatihan menggunakan TensorFlow."
      ],
      "metadata": {
        "id": "U9X35FTu3Q19"
      }
    },
    {
      "cell_type": "code",
      "source": [
        "def split_input_target(sequence):\n",
        "\n",
        "  input_text = sequence[:-1]\n",
        "  target_text=sequence[1:]\n",
        "  return input_text,target_text"
      ],
      "metadata": {
        "id": "6cBKb-YAzvHI"
      },
      "execution_count": null,
      "outputs": []
    },
    {
      "cell_type": "code",
      "source": [
        "split_input_target(list(\"Tensorflow\"))"
      ],
      "metadata": {
        "colab": {
          "base_uri": "https://localhost:8080/"
        },
        "id": "JAdbJcIs0GBA",
        "outputId": "0af672df-0f7d-44c8-a6d3-e82104d94a3a"
      },
      "execution_count": null,
      "outputs": [
        {
          "output_type": "execute_result",
          "data": {
            "text/plain": [
              "(['T', 'e', 'n', 's', 'o', 'r', 'f', 'l', 'o'],\n",
              " ['e', 'n', 's', 'o', 'r', 'f', 'l', 'o', 'w'])"
            ]
          },
          "metadata": {},
          "execution_count": 46
        }
      ]
    },
    {
      "cell_type": "code",
      "source": [
        "dataset = sequences.map(split_input_target)\n",
        "for input_example, target_example in dataset.take(1):\n",
        "  print(\"Input :\",text_from_ids(input_example).numpy())\n",
        "  print(\"Target:\",text_from_ids(target_example).numpy())"
      ],
      "metadata": {
        "colab": {
          "base_uri": "https://localhost:8080/"
        },
        "id": "s9W1107O0NLB",
        "outputId": "ca99ecbf-e363-4574-b5c0-df0d5d2028ce"
      },
      "execution_count": null,
      "outputs": [
        {
          "output_type": "stream",
          "name": "stdout",
          "text": [
            "Input : b'First Citizen:\\nBefore we proceed any further, hear me speak.\\n\\nAll:\\nSpeak, speak.\\n\\nFirst Citizen:\\nYou'\n",
            "Target: b'irst Citizen:\\nBefore we proceed any further, hear me speak.\\n\\nAll:\\nSpeak, speak.\\n\\nFirst Citizen:\\nYou '\n"
          ]
        }
      ]
    },
    {
      "cell_type": "markdown",
      "source": [
        "Fungsi split_input_target diimplementasikan untuk memisahkan urutan input dan target dari setiap urutan karakter unicode, yang mungkin digunakan dalam konteks pemodelan atau pelatihan untuk memprediksi karakter berikutnya dalam suatu urutan.\n"
      ],
      "metadata": {
        "id": "kyzHqdIe3W9o"
      }
    },
    {
      "cell_type": "markdown",
      "source": [
        "Membuat Batch Training"
      ],
      "metadata": {
        "id": "N6vh4jjq0ahv"
      }
    },
    {
      "cell_type": "code",
      "source": [
        "# Length of the vocabulary in StringLookup Layer\n",
        "vocab_size = len(ids_from_chars.get_vocabulary())\n",
        "\n",
        "# The embedding dimension\n",
        "embedding_dim = 256\n",
        "\n",
        "# Number of RNN units\n",
        "rnn_units = 1024"
      ],
      "metadata": {
        "id": "HwQzl3s005X9"
      },
      "execution_count": null,
      "outputs": []
    },
    {
      "cell_type": "code",
      "source": [
        "# Batch size\n",
        "BATCH_SIZE = 64\n",
        "\n",
        "# Buffer size to shuffle the dataset\n",
        "# (TF data is designed to work with possibly infinite sequences,\n",
        "# so it doesn't attempt to shuffle the entire sequence in memory. Instead,\n",
        "# it maintains a buffer in which it shuffles elements).\n",
        "BUFFER_SIZE = 10000\n",
        "\n",
        "dataset = (\n",
        "    dataset\n",
        "    .shuffle(BUFFER_SIZE)\n",
        "    .batch(BATCH_SIZE, drop_remainder=True)\n",
        "    .prefetch(tf.data.experimental.AUTOTUNE))\n",
        "\n",
        "dataset"
      ],
      "metadata": {
        "colab": {
          "base_uri": "https://localhost:8080/"
        },
        "id": "zG3pJH4B0cf2",
        "outputId": "2bfde731-ddbf-44e0-975e-9dc6358e8e3d"
      },
      "execution_count": null,
      "outputs": [
        {
          "output_type": "execute_result",
          "data": {
            "text/plain": [
              "<_PrefetchDataset element_spec=(TensorSpec(shape=(64, 100), dtype=tf.int64, name=None), TensorSpec(shape=(64, 100), dtype=tf.int64, name=None))>"
            ]
          },
          "metadata": {},
          "execution_count": 49
        }
      ]
    },
    {
      "cell_type": "code",
      "source": [
        "class MyModel(tf.keras.Model):\n",
        "  def __init__(self, vocab_size, embedding_dim, rnn_units):\n",
        "    super().__init__(self)\n",
        "    self.embedding = tf.keras.layers.Embedding(vocab_size, embedding_dim)\n",
        "    self.gru = tf.keras.layers.GRU(rnn_units,\n",
        "                                   return_sequences=True,\n",
        "                                   return_state=True)\n",
        "    self.dense = tf.keras.layers.Dense(vocab_size)\n",
        "\n",
        "  def call(self, inputs, states=None, return_state=False, training=False):\n",
        "    x = inputs\n",
        "    x = self.embedding(x, training=training)\n",
        "    if states is None:\n",
        "      states = self.gru.get_initial_state(x)\n",
        "    x, states = self.gru(x, initial_state=states, training=training)\n",
        "    x = self.dense(x, training=training)\n",
        "\n",
        "    if return_state:\n",
        "      return x, states\n",
        "    else:\n",
        "      return x"
      ],
      "metadata": {
        "id": "DmT9yP9l0tEN"
      },
      "execution_count": null,
      "outputs": []
    },
    {
      "cell_type": "markdown",
      "source": [],
      "metadata": {
        "id": "ZhhcUvri3jMT"
      }
    },
    {
      "cell_type": "markdown",
      "source": [
        ", MyModel adalah model dengan lapisan embedding, lapisan GRU, dan lapisan Dense. Model ini dapat digunakan untuk tugas generasi teks atau tugas sejenis.\n",
        "\n",
        "\n",
        "\n",
        "\n"
      ],
      "metadata": {
        "id": "v2wcohWj3i1n"
      }
    },
    {
      "cell_type": "code",
      "source": [
        "model = MyModel(\n",
        "    vocab_size=vocab_size,\n",
        "    embedding_dim=embedding_dim,\n",
        "    rnn_units=rnn_units)"
      ],
      "metadata": {
        "id": "t8tM_QWz0wdi"
      },
      "execution_count": null,
      "outputs": []
    },
    {
      "cell_type": "markdown",
      "source": [
        "Uji Model"
      ],
      "metadata": {
        "id": "lO8TnRbj09YH"
      }
    },
    {
      "cell_type": "code",
      "source": [
        "for input_example_batch, target_example_batch in dataset.take(1):\n",
        "    example_batch_predictions = model(input_example_batch)\n",
        "    print(example_batch_predictions.shape, \"# (batch_size, sequence_length, vocab_size)\")"
      ],
      "metadata": {
        "colab": {
          "base_uri": "https://localhost:8080/"
        },
        "id": "5noapN4M0_Os",
        "outputId": "fb725537-5153-48d8-bffc-f5d3c127982c"
      },
      "execution_count": null,
      "outputs": [
        {
          "output_type": "stream",
          "name": "stdout",
          "text": [
            "(64, 100, 66) # (batch_size, sequence_length, vocab_size)\n"
          ]
        }
      ]
    },
    {
      "cell_type": "code",
      "source": [
        "model.summary()"
      ],
      "metadata": {
        "colab": {
          "base_uri": "https://localhost:8080/"
        },
        "id": "CTbHNPlU1FRz",
        "outputId": "879d026c-5835-4aa1-cad1-b9a27d34c779"
      },
      "execution_count": null,
      "outputs": [
        {
          "output_type": "stream",
          "name": "stdout",
          "text": [
            "Model: \"my_model\"\n",
            "_________________________________________________________________\n",
            " Layer (type)                Output Shape              Param #   \n",
            "=================================================================\n",
            " embedding_2 (Embedding)     multiple                  16896     \n",
            "                                                                 \n",
            " gru (GRU)                   multiple                  3938304   \n",
            "                                                                 \n",
            " dense_4 (Dense)             multiple                  67650     \n",
            "                                                                 \n",
            "=================================================================\n",
            "Total params: 4022850 (15.35 MB)\n",
            "Trainable params: 4022850 (15.35 MB)\n",
            "Non-trainable params: 0 (0.00 Byte)\n",
            "_________________________________________________________________\n"
          ]
        }
      ]
    },
    {
      "cell_type": "markdown",
      "source": [
        "kedua blok ini memberikan informasi yang berguna untuk memahami output dari model pada satu batch dan struktur keseluruhan arsitektur model, termasuk jumlah parameter dan ukuran lapisan-lapisan yang digunakan."
      ],
      "metadata": {
        "id": "ox7Qzbfy3uZ8"
      }
    },
    {
      "cell_type": "code",
      "source": [
        "sampled_indices=tf.random.categorical(example_batch_predictions[0],num_samples=1)\n",
        "sampled_indices=tf.squeeze(sampled_indices,axis=-1).numpy()"
      ],
      "metadata": {
        "id": "ucAArN-p1J8c"
      },
      "execution_count": null,
      "outputs": []
    },
    {
      "cell_type": "markdown",
      "source": [
        "Training Model"
      ],
      "metadata": {
        "id": "Qx0BIJS01UXD"
      }
    },
    {
      "cell_type": "code",
      "source": [
        "loss=tf.losses.SparseCategoricalCrossentropy(from_logits=True)"
      ],
      "metadata": {
        "id": "-GAJSuRR1Q6q"
      },
      "execution_count": null,
      "outputs": []
    },
    {
      "cell_type": "code",
      "source": [
        "example_batch_mean_loss = loss(target_example_batch, example_batch_predictions)\n",
        "print(\"Prediction shape: \", example_batch_predictions.shape, \" # (batch_size, sequence_length, vocab_size)\")\n",
        "print(\"Mean loss:        \", example_batch_mean_loss)"
      ],
      "metadata": {
        "colab": {
          "base_uri": "https://localhost:8080/"
        },
        "id": "S3WOMYcM1ZKo",
        "outputId": "db323902-1515-4749-ee54-5674c793bc41"
      },
      "execution_count": null,
      "outputs": [
        {
          "output_type": "stream",
          "name": "stdout",
          "text": [
            "Prediction shape:  (64, 100, 66)  # (batch_size, sequence_length, vocab_size)\n",
            "Mean loss:         tf.Tensor(4.1885085, shape=(), dtype=float32)\n"
          ]
        }
      ]
    },
    {
      "cell_type": "markdown",
      "source": [
        " kode ini digunakan untuk mengukur performa model pada suatu batch data dengan menghitung loss dan mencetak bentuk prediksi serta nilai rata-rata loss. Implementasi lebih lanjut dari model dan loss function tidak diberikan dalam potongan kode tersebut."
      ],
      "metadata": {
        "id": "4ndcJIc1nv96"
      }
    },
    {
      "cell_type": "code",
      "source": [
        "tf.exp(example_batch_mean_loss).numpy()"
      ],
      "metadata": {
        "colab": {
          "base_uri": "https://localhost:8080/"
        },
        "id": "viyYJBgh1c95",
        "outputId": "7f11d2fc-95f6-4d54-e8fb-9bc34f2c0180"
      },
      "execution_count": null,
      "outputs": [
        {
          "output_type": "execute_result",
          "data": {
            "text/plain": [
              "65.92439"
            ]
          },
          "metadata": {},
          "execution_count": 59
        }
      ]
    },
    {
      "cell_type": "code",
      "source": [
        "model.compile(optimizer='adam',loss=loss)"
      ],
      "metadata": {
        "id": "51Lj7YyA1gVi"
      },
      "execution_count": null,
      "outputs": []
    },
    {
      "cell_type": "markdown",
      "source": [
        "Konfigurasi Checkpoin"
      ],
      "metadata": {
        "id": "RjQfxM6k1jQV"
      }
    },
    {
      "cell_type": "code",
      "source": [
        "# Directory where the checkpoints will be saved\n",
        "checkpoint_dir = './training_checkpoints'\n",
        "# Name of the checkpoint files\n",
        "checkpoint_prefix = os.path.join(checkpoint_dir, \"ckpt_{epoch}\")\n",
        "\n",
        "checkpoint_callback = tf.keras.callbacks.ModelCheckpoint(\n",
        "    filepath=checkpoint_prefix,\n",
        "    save_weights_only=True)"
      ],
      "metadata": {
        "id": "zG7lg6dp1n0T"
      },
      "execution_count": null,
      "outputs": []
    },
    {
      "cell_type": "markdown",
      "source": [
        "Lakukan Proses Training"
      ],
      "metadata": {
        "id": "GYWel-Ij1xU3"
      }
    },
    {
      "cell_type": "code",
      "source": [
        "EPOCHS=20\n",
        "history=model.fit(dataset,epochs=EPOCHS,callbacks=[checkpoint_callback])"
      ],
      "metadata": {
        "colab": {
          "base_uri": "https://localhost:8080/"
        },
        "id": "u82RgP_u1qow",
        "outputId": "8c96f8a6-0d12-4217-fe2d-94ec6543001b"
      },
      "execution_count": null,
      "outputs": [
        {
          "output_type": "stream",
          "name": "stdout",
          "text": [
            "Epoch 1/20\n",
            "172/172 [==============================] - 981s 6s/step - loss: 2.7119\n",
            "Epoch 2/20\n",
            "172/172 [==============================] - 916s 5s/step - loss: 1.9845\n",
            "Epoch 3/20\n",
            "172/172 [==============================] - 921s 5s/step - loss: 1.7051\n",
            "Epoch 4/20\n",
            "172/172 [==============================] - 920s 5s/step - loss: 1.5452\n",
            "Epoch 5/20\n",
            "172/172 [==============================] - 921s 5s/step - loss: 1.4483\n",
            "Epoch 6/20\n",
            "172/172 [==============================] - 918s 5s/step - loss: 1.3807\n",
            "Epoch 7/20\n",
            "172/172 [==============================] - 917s 5s/step - loss: 1.3280\n",
            "Epoch 8/20\n",
            "172/172 [==============================] - 912s 5s/step - loss: 1.2834\n",
            "Epoch 9/20\n",
            "172/172 [==============================] - 911s 5s/step - loss: 1.2431\n",
            "Epoch 10/20\n",
            "172/172 [==============================] - 911s 5s/step - loss: 1.2029\n",
            "Epoch 11/20\n",
            "172/172 [==============================] - 920s 5s/step - loss: 1.1631\n",
            "Epoch 12/20\n",
            "172/172 [==============================] - 912s 5s/step - loss: 1.1230\n",
            "Epoch 13/20\n",
            "172/172 [==============================] - 930s 5s/step - loss: 1.0794\n",
            "Epoch 14/20\n",
            "172/172 [==============================] - 908s 5s/step - loss: 1.0336\n",
            "Epoch 15/20\n",
            "172/172 [==============================] - 905s 5s/step - loss: 0.9861\n",
            "Epoch 16/20\n",
            "172/172 [==============================] - 899s 5s/step - loss: 0.9373\n",
            "Epoch 17/20\n",
            "172/172 [==============================] - 889s 5s/step - loss: 0.8843\n",
            "Epoch 18/20\n",
            "172/172 [==============================] - 895s 5s/step - loss: 0.8317\n",
            "Epoch 19/20\n",
            "172/172 [==============================] - 896s 5s/step - loss: 0.7809\n",
            "Epoch 20/20\n",
            "172/172 [==============================] - 889s 5s/step - loss: 0.7315\n"
          ]
        }
      ]
    },
    {
      "cell_type": "markdown",
      "source": [
        ", kode ini menjalankan proses pelatihan model dengan melakukan sejumlah epoch yang ditentukan (20 dalam hal ini) menggunakan dataset yang diberikan. Callback checkpoint_callback kemungkinan digunakan untuk menyimpan model selama proses pelatihan."
      ],
      "metadata": {
        "id": "7wgMM-Yzn3MU"
      }
    },
    {
      "cell_type": "code",
      "source": [
        "class OneStep(tf.keras.Model):\n",
        "  def __init__(self, model, chars_from_ids, ids_from_chars, temperature=1.0):\n",
        "    super().__init__()\n",
        "    self.temperature = temperature\n",
        "    self.model = model\n",
        "    self.chars_from_ids = chars_from_ids\n",
        "    self.ids_from_chars = ids_from_chars\n",
        "\n",
        "    # Create a mask to prevent \"[UNK]\" from being generated.\n",
        "    skip_ids = self.ids_from_chars(['[UNK]'])[:, None]\n",
        "    sparse_mask = tf.SparseTensor(\n",
        "        # Put a -inf at each bad index.\n",
        "        values=[-float('inf')]*len(skip_ids),\n",
        "        indices=skip_ids,\n",
        "        # Match the shape to the vocabulary\n",
        "        dense_shape=[len(ids_from_chars.get_vocabulary())])\n",
        "    self.prediction_mask = tf.sparse.to_dense(sparse_mask)\n",
        "\n",
        "  @tf.function\n",
        "  def generate_one_step(self, inputs, states=None):\n",
        "    # Convert strings to token IDs.\n",
        "    input_chars = tf.strings.unicode_split(inputs, 'UTF-8')\n",
        "    input_ids = self.ids_from_chars(input_chars).to_tensor()\n",
        "\n",
        "    # Run the model.\n",
        "    # predicted_logits.shape is [batch, char, next_char_logits]\n",
        "    predicted_logits, states = self.model(inputs=input_ids, states=states,\n",
        "                                          return_state=True)\n",
        "    # Only use the last prediction.\n",
        "    predicted_logits = predicted_logits[:, -1, :]\n",
        "    predicted_logits = predicted_logits/self.temperature\n",
        "    # Apply the prediction mask: prevent \"[UNK]\" from being generated.\n",
        "    predicted_logits = predicted_logits + self.prediction_mask\n",
        "\n",
        "    # Sample the output logits to generate token IDs.\n",
        "    predicted_ids = tf.random.categorical(predicted_logits, num_samples=1)\n",
        "    predicted_ids = tf.squeeze(predicted_ids, axis=-1)\n",
        "\n",
        "    # Convert from token ids to characters\n",
        "    predicted_chars = self.chars_from_ids(predicted_ids)\n",
        "\n",
        "    # Return the characters and model state.\n",
        "    return predicted_chars, states"
      ],
      "metadata": {
        "id": "Wc_gNmkM-r0W"
      },
      "execution_count": null,
      "outputs": []
    },
    {
      "cell_type": "markdown",
      "source": [
        "Kelas ini digunakan untuk mengimplementasikan satu langkah (step) dari proses generasi teks dengan menggunakan model tertentu."
      ],
      "metadata": {
        "id": "9WaI_xNNoI0V"
      }
    },
    {
      "cell_type": "code",
      "source": [
        "one_step_model = OneStep(model,chars_from_ids,ids_from_chars)"
      ],
      "metadata": {
        "id": "V-a59AOr-xqk"
      },
      "execution_count": null,
      "outputs": []
    },
    {
      "cell_type": "code",
      "source": [
        "start = time.time()\n",
        "states = None\n",
        "next_char = tf.constant(['ROMEO:'])\n",
        "result = [next_char]\n",
        "\n",
        "for n in range(1000):\n",
        "  next_char, states = one_step_model.generate_one_step(next_char, states=states)\n",
        "  result.append(next_char)\n",
        "\n",
        "result = tf.strings.join(result)\n",
        "end = time.time()\n",
        "print(result[0].numpy().decode('utf-8'), '\\n\\n' + '_'*80)\n",
        "print('\\nRun time:', end - start)"
      ],
      "metadata": {
        "colab": {
          "base_uri": "https://localhost:8080/"
        },
        "id": "ldJmkwf7-5yb",
        "outputId": "36c69ec8-6e10-4519-fe09-79d52bbd68a2"
      },
      "execution_count": null,
      "outputs": [
        {
          "output_type": "stream",
          "name": "stdout",
          "text": [
            "ROMEO:\n",
            "Why, Bohemia: she did stay:\n",
            "To make thee nothing of thy mother's head!\n",
            "Now are o'Tentime here are come to stale.\n",
            "\n",
            "QUEEN MARGARET:\n",
            "Peace, Grumio! it is no mortal bed;\n",
            "On me, how hence with sught in were good\n",
            "That he hath sooner of me in's,\n",
            "That I, poor Rebis, and all nere-bold spirit\n",
            "Liking for my commoding Reward\n",
            "Of Seeasons we good dwalth, and cap it be\n",
            "To bear upon the stirring the voice:\n",
            "If I may come to speak, setion.\n",
            "\n",
            "GREEN:\n",
            "Alas, it were borne you: Lord Angelo, I come\n",
            "To yield the town and revels enough,\n",
            "Which down thee fair? The king shall not endure\n",
            "From off noses of death?\n",
            "\n",
            "SICINIUS:\n",
            "How art thou suffer'st! Were not inquirity,\n",
            "Whereof will choler, fearful hish for,\n",
            "snew-herd, my sword up; fond, captain,--\n",
            "And make our hearts and all restraining should\n",
            "Than death example's gift? O most hostly\n",
            "for these eyes to command, who began to bed.\n",
            "What transport of state? it is no other's regiment\n",
            "Thy peace of mine, thou liest in beoking\n",
            "To the open alive and cheer:\n",
            "The daughter of an ho \n",
            "\n",
            "________________________________________________________________________________\n",
            "\n",
            "Run time: 3.347932815551758\n"
          ]
        }
      ]
    },
    {
      "cell_type": "markdown",
      "source": [
        "kode ini menggunakan model one_step_model untuk menghasilkan teks sepanjang 1000 karakter berdasarkan seed awal 'ROMEO:' dan mencetak hasilnya bersama dengan waktu yang dibutuhkan untuk menjalankan proses tersebut.\n",
        "\n",
        "\n",
        "\n",
        "\n"
      ],
      "metadata": {
        "id": "DNpHeDaNoRTZ"
      }
    },
    {
      "cell_type": "code",
      "source": [
        "start = time.time()\n",
        "states = None\n",
        "next_char = tf.constant(['ROMEO:', 'ROMEO:', 'ROMEO:', 'ROMEO:', 'ROMEO:'])\n",
        "result = [next_char]\n",
        "\n",
        "for n in range(1000):\n",
        "  next_char, states = one_step_model.generate_one_step(next_char, states=states)\n",
        "  result.append(next_char)\n",
        "\n",
        "result = tf.strings.join(result)\n",
        "end = time.time()\n",
        "print(result, '\\n\\n' + '_'*80)\n",
        "print('\\nRun time:', end - start)"
      ],
      "metadata": {
        "colab": {
          "base_uri": "https://localhost:8080/"
        },
        "id": "HKIqouM1-_FT",
        "outputId": "9e38bf33-ce1b-4bc7-d4a9-098651be5f41"
      },
      "execution_count": null,
      "outputs": [
        {
          "output_type": "stream",
          "name": "stdout",
          "text": [
            "tf.Tensor(\n",
            "[b\"ROMEO:\\nTruly, Peter to't. Ay, by my holiar heart!\\n\\nPETRUCHIO:\\nI pray you, lady!\\n\\nLADY CAPULET:\\nO most that cease; he has a maid would speak,\\nAnd less the east fall of sense,\\nSuch a desire of the northent of their shims.\\n\\nKATHARINA:\\nYet I tell thee, may, round aloof, and live.\\nWhat, nobly Herchuse will he be freed\\nAnd creed ill-dinded bed:s like enemies.\\n\\nBIANCA:\\nTranio, never keep your infant.\\nWhat, is it that tell us the temperous and usurps\\nWhich is enter'd intent? What should she?\\nA drum, she bod's corse to my misdre!\\n\\nFirst Citizen:\\nHe shall, stee: alive, and leave you'll meet!\\nO sweetly, vowsaris! Who is his house told.\\n\\nQUEEN MARGARET:\\nReapol, it father, monthor, speaks!\\nTheir pleasures he have spider'd there.\\n\\nFirst Servant:\\nAy.\\n\\nPETRUCHIO:\\nNo more.\\n\\nFLORIZEL:\\nWas ever raise this bosom and your feirs: thou'rt all\\nafread too need goes well.\\n\\nDUCHESS OF YORK:\\nDown you so wish!\\n\\nKATHARINA:\\nFetch him to pieces. I met me all Gaunt.\\n\\nQUEEN MARGARET:\\nWhat, you, most turn to us, my mother not\"\n",
            " b\"ROMEO:\\nThy widow Duke:\\nTo us, if I may company it,\\nAnd patient. We do fight.\\n\\nCOMINIUS:\\nHear me, Kate, I have brought her!\\nDo you fetch him, and he should have heard you\\ngood, nor fear, sweet eye, unlook'd for rain, dut us\\nyour steed those man how here command this enter.\\nAnother each other hate on her,\\nUpon my pocurel, and my name is Licious tome:\\nWe'll serve a swift asleep, no sharph-in-kilse,\\nNor a much and most conpurest whose better king;\\nOne of our seats do what mischarity,\\nResides not in the Marcius good enough,\\nWhere on a murderer with his high dispetite,\\nAs in a mad-mar hours seem or perim.\\n\\nROMEO:\\nIs charged the night ougdly shriud?\\n\\nSICINIUS:\\nHe hars; for ever\\nAs sometimes you for his hate.\\nA hurl in a despire of silence, here all the world\\nWere wedded mutinous in his enemy: thence,\\nMy tongue could never look upon my bears,\\nyou'll rest in believy nature,\\nShall be executed in hell, Aufidius?\\n\\nMAMPIONA:\\nThat so, resolve me, choke the it, and exile;\\nNone, lest that any hugh in you.\\n\\n\"\n",
            " b\"ROMEO:\\nWhy, courage! mark! what dost thou?\\n\\nPETRUCHIO:\\nVillains! I tell thee, Juliet, do\\nNo more to make a merid of the duke and woman,\\nere you know no inchristed terms\\nThan he of nobleness.\\nBetter it is to hear those vengeance upon your voice,\\nThat heaven finds between his eeterate as these are,\\nPut up my mother west, and cares feel\\nWe set them now. Pray you, when\\nay are news, and make thee to the back:\\nYou understand me to my wretch.\\n\\nPROSPERO:\\nShe crafts.\\n\\nThird Servingman:\\nO my own, rise and felt a noble\\nCall's delight her.\\n\\nPETRUCHIO:\\nCome on, 'Both: lest fear our pattern\\nAppearing here I should not ple: thou wilt perform,\\nNow I met your honour will not be fearful to\\nHarry: the garland guest was like\\nto be access.\\n\\nFirst Servant:\\nTay, yet I come into be much.--\\nWe promised to pay your worship, make no least:\\nSay you see: it was with dearer the clock:\\nYet that for him, Lord Hastings shall be of their\\nnimplenis; and if he see thee, or makes unless\\nThe very book of love, that love Bianca\\nD\"\n",
            " b\"ROMEO:\\nFor I have heard it so?\\nHave like the people, who possible of your person,\\nPursued his Paris. tell those honour furnished for thee\\nIshick the watery bears himself.\\nAfter hooth perforced in't shall not\\nBe spurred by despised, methinks he offend?\\n\\nYORK:\\nAy, waiting that he should have shrift'd my head\\nBut it the meaning of the people, for your tent,\\nWould not hear from thee, he must obedient\\nOn fortune bold their neighbours of the field\\nAnd left us were the Lady Bona,\\nAnd he that hath borne thee: therefore?\\n\\nMessenger:\\nThe mayor to purchase your masters'! a yearse,\\nWhere he the heavens effected thee!\\n\\nThird Messenger:\\nThe very boy of acquaintance, and am\\nRoyal nurse, this most hath made her is o'ercharge;\\nIf thou bid me love and maxters, Katever is perutious\\nWith the stricks. You, Tutor Ambian Lancaster.\\nBad, he arrived myself; and, as I slept,\\nUnto the rest, you shall: our circumstances,\\nFor nothing of them in the former land.\\nOur perish will come to Romeo.\\n\\nGREMIO:\\nYou never sake, War\"\n",
            " b\"ROMEO:\\nI must and Marcius, Richard, Surrenein,\\nA jest becomes thee to my frown.\\n\\nGLOUCESTER:\\nThanks, grace of grue, my heart lies a father.\\nThe king stays his ill-bocking dept unto\\nLonger of the Lord's father's best:\\nThis being thrust dying plucking the effect of you\\nWere not relisons: he met him in rebetting Gloucester.\\nLook, that I have striet me.\\n\\nISABELLA:\\nBeseech you, tell me, sir, there art aside, and case forth,\\nWho lyst is lost, our garments should not live:\\nIn courage sirchle, dolt tapeful marriage.\\n\\nANGELO:\\nYet rather now be virtue.\\n\\nSICINIUS:\\nAre you merry!\\n\\nCORIOLANUS:\\nKindly! Sir, how beauty's angry:\\nTo thee not, traniom of Clarence?\\n\\nQUEEN ELIZABETH:\\nSo loved thee, in his needless whole joar\\nHath nothing like the butcher, even. When\\nhaving me, no such a carlet stainly serve:\\nWithin these honest means man have I pleased\\nthe chrisses. Thou, wretch! If thou keep'st mercy;\\n'Twas no neit bewoment should be confesses,\\nAnd make it to against me, Kate too much profits\\nFrom out a figure\"], shape=(5,), dtype=string) \n",
            "\n",
            "________________________________________________________________________________\n",
            "\n",
            "Run time: 4.871594667434692\n"
          ]
        }
      ]
    },
    {
      "cell_type": "markdown",
      "source": [
        " kode ini melakukan generasi teks sepanjang 1000 karakter untuk setiap seed awal yang diberikan dan mencetak hasilnya bersama dengan waktu yang dibutuhkan untuk menjalankan proses tersebut."
      ],
      "metadata": {
        "id": "nkymGKcworKB"
      }
    },
    {
      "cell_type": "code",
      "source": [
        "tf.saved_model.save(one_step_model, 'one_step')\n",
        "one_step_reloaded = tf.saved_model.load('one_step')"
      ],
      "metadata": {
        "colab": {
          "base_uri": "https://localhost:8080/"
        },
        "id": "3EFG9EQR_DE7",
        "outputId": "94195c9d-3929-454d-ad28-faa99a388a05"
      },
      "execution_count": null,
      "outputs": [
        {
          "output_type": "stream",
          "name": "stderr",
          "text": [
            "WARNING:tensorflow:Skipping full serialization of Keras layer <__main__.OneStep object at 0x7ca626fff880>, because it is not built.\n",
            "WARNING:tensorflow:Model's `__init__()` arguments contain non-serializable objects. Please implement a `get_config()` method in the subclassed Model for proper saving and loading. Defaulting to empty config.\n",
            "WARNING:tensorflow:Model's `__init__()` arguments contain non-serializable objects. Please implement a `get_config()` method in the subclassed Model for proper saving and loading. Defaulting to empty config.\n"
          ]
        }
      ]
    },
    {
      "cell_type": "code",
      "source": [
        "states = None\n",
        "next_char = tf.constant(['ROMEO:'])\n",
        "result = [next_char]\n",
        "\n",
        "for n in range(100):\n",
        "  next_char, states = one_step_reloaded.generate_one_step(next_char, states=states)\n",
        "  result.append(next_char)\n",
        "\n",
        "print(tf.strings.join(result)[0].numpy().decode(\"utf-8\"))"
      ],
      "metadata": {
        "id": "XqCLVMo7_G1e",
        "outputId": "f256d909-f116-4b13-ab50-05b75dc16aa1",
        "colab": {
          "base_uri": "https://localhost:8080/"
        }
      },
      "execution_count": null,
      "outputs": [
        {
          "output_type": "stream",
          "name": "stdout",
          "text": [
            "ROMEO:\n",
            "O proper you, lords, be taible degleest.\n",
            "\n",
            "ADRIAN:\n",
            "Tut, fair, be mercy! you, my lord,\n",
            "Let Richmond i\n"
          ]
        }
      ]
    },
    {
      "cell_type": "markdown",
      "source": [
        "kode ini menggunakan model yang telah dimuat kembali (one_step_reloaded) untuk menghasilkan teks sepanjang 100 karakter berdasarkan seed awal 'ROMEO:' dan mencetak hasilnya. Tidak ada waktu eksekusi yang diukur dalam kode ini."
      ],
      "metadata": {
        "id": "F9y-3aUwodeJ"
      }
    }
  ]
}